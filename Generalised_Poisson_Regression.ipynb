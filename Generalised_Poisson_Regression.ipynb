{
  "nbformat": 4,
  "nbformat_minor": 0,
  "metadata": {
    "colab": {
      "name": "Generalised-Poisson-Regression",
      "provenance": []
    },
    "kernelspec": {
      "name": "python3",
      "display_name": "Python 3"
    },
    "language_info": {
      "name": "python"
    },
    "accelerator": "GPU"
  },
  "cells": [
    {
      "cell_type": "markdown",
      "metadata": {
        "id": "M2z80y6Dfgnm"
      },
      "source": [
        "Analysis of numbers of bicyclists crossing Brooklyn bridge everyday considering some factors that may act towards such counts"
      ]
    },
    {
      "cell_type": "code",
      "metadata": {
        "id": "XlEurH74V6Ef"
      },
      "source": [
        "import pandas as pd\n",
        "from patsy import dmatrices\n",
        "import numpy as np\n",
        "import statsmodels.api as sm\n",
        "import matplotlib.pyplot as plt"
      ],
      "execution_count": 32,
      "outputs": []
    },
    {
      "cell_type": "code",
      "metadata": {
        "id": "cBjFuO8ppjiq"
      },
      "source": [
        "import warnings\n",
        "warnings.filterwarnings(\"ignore\", category=FutureWarning)"
      ],
      "execution_count": 33,
      "outputs": []
    },
    {
      "cell_type": "code",
      "metadata": {
        "colab": {
          "base_uri": "https://localhost:8080/",
          "height": 235
        },
        "id": "-Oe4cTSwV-Mt",
        "outputId": "4dbb54a6-cc7f-4ba9-ccee-ad54fc907002"
      },
      "source": [
        "nyc_df = pd.read_csv(\"/content/nyc_bb_bicyclist_counts.csv\", index_col=[0], parse_dates=[0], infer_datetime_format=True)\n",
        "nyc_df.head()"
      ],
      "execution_count": 34,
      "outputs": [
        {
          "output_type": "execute_result",
          "data": {
            "text/html": [
              "<div>\n",
              "<style scoped>\n",
              "    .dataframe tbody tr th:only-of-type {\n",
              "        vertical-align: middle;\n",
              "    }\n",
              "\n",
              "    .dataframe tbody tr th {\n",
              "        vertical-align: top;\n",
              "    }\n",
              "\n",
              "    .dataframe thead th {\n",
              "        text-align: right;\n",
              "    }\n",
              "</style>\n",
              "<table border=\"1\" class=\"dataframe\">\n",
              "  <thead>\n",
              "    <tr style=\"text-align: right;\">\n",
              "      <th></th>\n",
              "      <th>HIGH_T</th>\n",
              "      <th>LOW_T</th>\n",
              "      <th>PRECIP</th>\n",
              "      <th>BB_COUNT</th>\n",
              "    </tr>\n",
              "    <tr>\n",
              "      <th>Date</th>\n",
              "      <th></th>\n",
              "      <th></th>\n",
              "      <th></th>\n",
              "      <th></th>\n",
              "    </tr>\n",
              "  </thead>\n",
              "  <tbody>\n",
              "    <tr>\n",
              "      <th>2017-04-01</th>\n",
              "      <td>46.0</td>\n",
              "      <td>37.0</td>\n",
              "      <td>0.00</td>\n",
              "      <td>606</td>\n",
              "    </tr>\n",
              "    <tr>\n",
              "      <th>2017-04-02</th>\n",
              "      <td>62.1</td>\n",
              "      <td>41.0</td>\n",
              "      <td>0.00</td>\n",
              "      <td>2021</td>\n",
              "    </tr>\n",
              "    <tr>\n",
              "      <th>2017-04-03</th>\n",
              "      <td>63.0</td>\n",
              "      <td>50.0</td>\n",
              "      <td>0.03</td>\n",
              "      <td>2470</td>\n",
              "    </tr>\n",
              "    <tr>\n",
              "      <th>2017-04-04</th>\n",
              "      <td>51.1</td>\n",
              "      <td>46.0</td>\n",
              "      <td>1.18</td>\n",
              "      <td>723</td>\n",
              "    </tr>\n",
              "    <tr>\n",
              "      <th>2017-04-05</th>\n",
              "      <td>63.0</td>\n",
              "      <td>46.0</td>\n",
              "      <td>0.00</td>\n",
              "      <td>2807</td>\n",
              "    </tr>\n",
              "  </tbody>\n",
              "</table>\n",
              "</div>"
            ],
            "text/plain": [
              "            HIGH_T  LOW_T  PRECIP  BB_COUNT\n",
              "Date                                       \n",
              "2017-04-01    46.0   37.0    0.00       606\n",
              "2017-04-02    62.1   41.0    0.00      2021\n",
              "2017-04-03    63.0   50.0    0.03      2470\n",
              "2017-04-04    51.1   46.0    1.18       723\n",
              "2017-04-05    63.0   46.0    0.00      2807"
            ]
          },
          "metadata": {
            "tags": []
          },
          "execution_count": 34
        }
      ]
    },
    {
      "cell_type": "markdown",
      "metadata": {
        "id": "jOtGAm-TZKpU"
      },
      "source": [
        "**Adding day, month and day of the week to the dataset to make our independent variable robust**"
      ]
    },
    {
      "cell_type": "code",
      "metadata": {
        "id": "NnDtZcv8WoKE"
      },
      "source": [
        "dataset = nyc_df.index.to_series()\n",
        "nyc_df['MONTH'] = dataset.dt.month\n",
        "nyc_df['DAY_OF_WEEK'] = dataset.dt.dayofweek\n",
        "nyc_df['DAY'] = dataset.dt.day"
      ],
      "execution_count": 35,
      "outputs": []
    },
    {
      "cell_type": "code",
      "metadata": {
        "id": "LAc4QLjyaL5E",
        "outputId": "e6b415a2-7b82-4992-c39e-c245a8e3a44c",
        "colab": {
          "base_uri": "https://localhost:8080/",
          "height": 450
        }
      },
      "source": [
        "nyc_df"
      ],
      "execution_count": 36,
      "outputs": [
        {
          "output_type": "execute_result",
          "data": {
            "text/html": [
              "<div>\n",
              "<style scoped>\n",
              "    .dataframe tbody tr th:only-of-type {\n",
              "        vertical-align: middle;\n",
              "    }\n",
              "\n",
              "    .dataframe tbody tr th {\n",
              "        vertical-align: top;\n",
              "    }\n",
              "\n",
              "    .dataframe thead th {\n",
              "        text-align: right;\n",
              "    }\n",
              "</style>\n",
              "<table border=\"1\" class=\"dataframe\">\n",
              "  <thead>\n",
              "    <tr style=\"text-align: right;\">\n",
              "      <th></th>\n",
              "      <th>HIGH_T</th>\n",
              "      <th>LOW_T</th>\n",
              "      <th>PRECIP</th>\n",
              "      <th>BB_COUNT</th>\n",
              "      <th>MONTH</th>\n",
              "      <th>DAY_OF_WEEK</th>\n",
              "      <th>DAY</th>\n",
              "    </tr>\n",
              "    <tr>\n",
              "      <th>Date</th>\n",
              "      <th></th>\n",
              "      <th></th>\n",
              "      <th></th>\n",
              "      <th></th>\n",
              "      <th></th>\n",
              "      <th></th>\n",
              "      <th></th>\n",
              "    </tr>\n",
              "  </thead>\n",
              "  <tbody>\n",
              "    <tr>\n",
              "      <th>2017-04-01</th>\n",
              "      <td>46.0</td>\n",
              "      <td>37.0</td>\n",
              "      <td>0.00</td>\n",
              "      <td>606</td>\n",
              "      <td>4</td>\n",
              "      <td>5</td>\n",
              "      <td>1</td>\n",
              "    </tr>\n",
              "    <tr>\n",
              "      <th>2017-04-02</th>\n",
              "      <td>62.1</td>\n",
              "      <td>41.0</td>\n",
              "      <td>0.00</td>\n",
              "      <td>2021</td>\n",
              "      <td>4</td>\n",
              "      <td>6</td>\n",
              "      <td>2</td>\n",
              "    </tr>\n",
              "    <tr>\n",
              "      <th>2017-04-03</th>\n",
              "      <td>63.0</td>\n",
              "      <td>50.0</td>\n",
              "      <td>0.03</td>\n",
              "      <td>2470</td>\n",
              "      <td>4</td>\n",
              "      <td>0</td>\n",
              "      <td>3</td>\n",
              "    </tr>\n",
              "    <tr>\n",
              "      <th>2017-04-04</th>\n",
              "      <td>51.1</td>\n",
              "      <td>46.0</td>\n",
              "      <td>1.18</td>\n",
              "      <td>723</td>\n",
              "      <td>4</td>\n",
              "      <td>1</td>\n",
              "      <td>4</td>\n",
              "    </tr>\n",
              "    <tr>\n",
              "      <th>2017-04-05</th>\n",
              "      <td>63.0</td>\n",
              "      <td>46.0</td>\n",
              "      <td>0.00</td>\n",
              "      <td>2807</td>\n",
              "      <td>4</td>\n",
              "      <td>2</td>\n",
              "      <td>5</td>\n",
              "    </tr>\n",
              "    <tr>\n",
              "      <th>...</th>\n",
              "      <td>...</td>\n",
              "      <td>...</td>\n",
              "      <td>...</td>\n",
              "      <td>...</td>\n",
              "      <td>...</td>\n",
              "      <td>...</td>\n",
              "      <td>...</td>\n",
              "    </tr>\n",
              "    <tr>\n",
              "      <th>2017-10-27</th>\n",
              "      <td>62.1</td>\n",
              "      <td>48.0</td>\n",
              "      <td>0.00</td>\n",
              "      <td>3150</td>\n",
              "      <td>10</td>\n",
              "      <td>4</td>\n",
              "      <td>27</td>\n",
              "    </tr>\n",
              "    <tr>\n",
              "      <th>2017-10-28</th>\n",
              "      <td>68.0</td>\n",
              "      <td>55.9</td>\n",
              "      <td>0.00</td>\n",
              "      <td>2245</td>\n",
              "      <td>10</td>\n",
              "      <td>5</td>\n",
              "      <td>28</td>\n",
              "    </tr>\n",
              "    <tr>\n",
              "      <th>2017-10-29</th>\n",
              "      <td>64.9</td>\n",
              "      <td>61.0</td>\n",
              "      <td>3.03</td>\n",
              "      <td>183</td>\n",
              "      <td>10</td>\n",
              "      <td>6</td>\n",
              "      <td>29</td>\n",
              "    </tr>\n",
              "    <tr>\n",
              "      <th>2017-10-30</th>\n",
              "      <td>55.0</td>\n",
              "      <td>46.0</td>\n",
              "      <td>0.25</td>\n",
              "      <td>1428</td>\n",
              "      <td>10</td>\n",
              "      <td>0</td>\n",
              "      <td>30</td>\n",
              "    </tr>\n",
              "    <tr>\n",
              "      <th>2017-10-31</th>\n",
              "      <td>54.0</td>\n",
              "      <td>44.0</td>\n",
              "      <td>0.00</td>\n",
              "      <td>2727</td>\n",
              "      <td>10</td>\n",
              "      <td>1</td>\n",
              "      <td>31</td>\n",
              "    </tr>\n",
              "  </tbody>\n",
              "</table>\n",
              "<p>214 rows × 7 columns</p>\n",
              "</div>"
            ],
            "text/plain": [
              "            HIGH_T  LOW_T  PRECIP  BB_COUNT  MONTH  DAY_OF_WEEK  DAY\n",
              "Date                                                                \n",
              "2017-04-01    46.0   37.0    0.00       606      4            5    1\n",
              "2017-04-02    62.1   41.0    0.00      2021      4            6    2\n",
              "2017-04-03    63.0   50.0    0.03      2470      4            0    3\n",
              "2017-04-04    51.1   46.0    1.18       723      4            1    4\n",
              "2017-04-05    63.0   46.0    0.00      2807      4            2    5\n",
              "...            ...    ...     ...       ...    ...          ...  ...\n",
              "2017-10-27    62.1   48.0    0.00      3150     10            4   27\n",
              "2017-10-28    68.0   55.9    0.00      2245     10            5   28\n",
              "2017-10-29    64.9   61.0    3.03       183     10            6   29\n",
              "2017-10-30    55.0   46.0    0.25      1428     10            0   30\n",
              "2017-10-31    54.0   44.0    0.00      2727     10            1   31\n",
              "\n",
              "[214 rows x 7 columns]"
            ]
          },
          "metadata": {
            "tags": []
          },
          "execution_count": 36
        }
      ]
    },
    {
      "cell_type": "code",
      "metadata": {
        "id": "clLzMuR-dUx_",
        "outputId": "585b1f01-18f4-4f46-e2c9-cca419806ea1",
        "colab": {
          "base_uri": "https://localhost:8080/"
        }
      },
      "source": [
        "nyc_df.info()"
      ],
      "execution_count": 37,
      "outputs": [
        {
          "output_type": "stream",
          "text": [
            "<class 'pandas.core.frame.DataFrame'>\n",
            "DatetimeIndex: 214 entries, 2017-04-01 to 2017-10-31\n",
            "Data columns (total 7 columns):\n",
            " #   Column       Non-Null Count  Dtype  \n",
            "---  ------       --------------  -----  \n",
            " 0   HIGH_T       214 non-null    float64\n",
            " 1   LOW_T        214 non-null    float64\n",
            " 2   PRECIP       214 non-null    float64\n",
            " 3   BB_COUNT     214 non-null    int64  \n",
            " 4   MONTH        214 non-null    int64  \n",
            " 5   DAY_OF_WEEK  214 non-null    int64  \n",
            " 6   DAY          214 non-null    int64  \n",
            "dtypes: float64(3), int64(4)\n",
            "memory usage: 13.4 KB\n"
          ],
          "name": "stdout"
        }
      ]
    },
    {
      "cell_type": "markdown",
      "metadata": {
        "id": "sO6XA9jDbC7W"
      },
      "source": [
        "splitting the dataset into train and test"
      ]
    },
    {
      "cell_type": "code",
      "metadata": {
        "id": "38kczOtVa35n",
        "outputId": "3e84f44b-0297-43c2-d436-e0df22e87a20",
        "colab": {
          "base_uri": "https://localhost:8080/"
        }
      },
      "source": [
        "mask = np.random.rand(len(nyc_df)) < 0.80\n",
        "\n",
        "train = nyc_df[mask]\n",
        "test  = nyc_df[~mask]\n",
        "\n",
        "print(\"training dataset length is :\" + str(len(train)))\n",
        "print(\"testing dataset length is :\" + str(len(test)))"
      ],
      "execution_count": 38,
      "outputs": [
        {
          "output_type": "stream",
          "text": [
            "training dataset length is :172\n",
            "testing dataset length is :42\n"
          ],
          "name": "stdout"
        }
      ]
    },
    {
      "cell_type": "markdown",
      "metadata": {
        "id": "G0RhVLCveTYc"
      },
      "source": [
        "Here We are telling patsy which is a library in pthon that BB_COUNT is our dependent variable y and it is being explained by the independent variables X: DAY, DAY_OF_WEEK, MONTH, HIGH_T, LOW_T and PRECIP."
      ]
    },
    {
      "cell_type": "code",
      "metadata": {
        "id": "QqHegoUack1k"
      },
      "source": [
        "expr = 'BB_COUNT ~ DAY + DAY_OF_WEEK + MONTH + BB_COUNT + PRECIP + LOW_T + HIGH_T'"
      ],
      "execution_count": 39,
      "outputs": []
    },
    {
      "cell_type": "markdown",
      "metadata": {
        "id": "Lh8RmiImgSsL"
      },
      "source": [
        "We’ll use Patsy to carve out the X and y matrices. Patsy will automatically add a regression intercept column to X:"
      ]
    },
    {
      "cell_type": "code",
      "metadata": {
        "id": "c69Fq7BogMpA"
      },
      "source": [
        "y_train, X_train = dmatrices(expr, train, return_type=\"dataframe\")\n",
        "y_test, X_test = dmatrices(expr, test, return_type=\"dataframe\")"
      ],
      "execution_count": 40,
      "outputs": []
    },
    {
      "cell_type": "markdown",
      "metadata": {
        "id": "O77S8ZCEg9LX"
      },
      "source": [
        "**Using the Generalized Linear Model to train**"
      ]
    },
    {
      "cell_type": "code",
      "metadata": {
        "id": "4oTLhhRIgyGS",
        "outputId": "708f3010-b4ff-4d76-e970-2c82eda9daa8",
        "colab": {
          "base_uri": "https://localhost:8080/"
        }
      },
      "source": [
        "glm_poisson = sm.GLM(y_train, X_train, family=sm.families.Poisson()).fit()\n",
        "print(glm_poisson.summary())"
      ],
      "execution_count": 41,
      "outputs": [
        {
          "output_type": "stream",
          "text": [
            "                 Generalized Linear Model Regression Results                  \n",
            "==============================================================================\n",
            "Dep. Variable:               BB_COUNT   No. Observations:                  172\n",
            "Model:                            GLM   Df Residuals:                      164\n",
            "Model Family:                 Poisson   Df Model:                            7\n",
            "Link Function:                    log   Scale:                          1.0000\n",
            "Method:                          IRLS   Log-Likelihood:                -2332.5\n",
            "Date:                Fri, 02 Jul 2021   Deviance:                       3006.0\n",
            "Time:                        09:57:25   Pearson chi2:                 2.69e+03\n",
            "No. Iterations:                     5                                         \n",
            "Covariance Type:            nonrobust                                         \n",
            "===============================================================================\n",
            "                  coef    std err          z      P>|z|      [0.025      0.975]\n",
            "-------------------------------------------------------------------------------\n",
            "Intercept       6.6554      0.014    492.655      0.000       6.629       6.682\n",
            "DAY             0.0002      0.000      1.115      0.265      -0.000       0.001\n",
            "DAY_OF_WEEK    -0.0002      0.001     -0.282      0.778      -0.002       0.001\n",
            "MONTH          -0.0007      0.001     -0.831      0.406      -0.002       0.001\n",
            "BB_COUNT        0.0004   2.69e-06    141.303      0.000       0.000       0.000\n",
            "PRECIP         -0.2588      0.007    -34.700      0.000      -0.273      -0.244\n",
            "LOW_T          -0.0006      0.000     -1.560      0.119      -0.001       0.000\n",
            "HIGH_T          0.0030      0.000      8.519      0.000       0.002       0.004\n",
            "===============================================================================\n"
          ],
          "name": "stdout"
        }
      ]
    },
    {
      "cell_type": "markdown",
      "metadata": {
        "id": "P1edXd8Fju9P"
      },
      "source": [
        "From the Model above we can see DAY_OF_WEEK and MONTH are not statistically significant(p-value:0.412 & 0.119) while the remaining variables are statistically significant at the 95% confidence since their p-value is < 0.05 "
      ]
    },
    {
      "cell_type": "markdown",
      "metadata": {
        "id": "HdULO4I9lJyt"
      },
      "source": [
        "      **Assumption of Poisson Distribution**\n",
        "Following poisson assumption that an event happening should not be as result of an already existen event and in other to avoid overdispersion which arises when the ni Bernoulli trials that are summarized in a line of the dataset are:\n",
        "\n",
        "a. not identically distributed (i.e. the success probabilities vary from one trial to the next), or\n",
        "\n",
        "b. not independent (i.e. the outcome of one trial influences the outcomes of other trialst"
      ]
    },
    {
      "cell_type": "markdown",
      "metadata": {
        "id": "RQH331cQl0nL"
      },
      "source": [
        "**checking for the mean and variance to see if it confirms to the assumptions above**"
      ]
    },
    {
      "cell_type": "code",
      "metadata": {
        "id": "M_bB3BEyhfgH",
        "outputId": "a13f3455-b0df-44ea-f756-b3272a0a6dbe",
        "colab": {
          "base_uri": "https://localhost:8080/"
        }
      },
      "source": [
        "print('variance :' + str(nyc_df['BB_COUNT'].var()))\n",
        "print('mean :' + str(nyc_df['BB_COUNT'].mean()))"
      ],
      "execution_count": 42,
      "outputs": [
        {
          "output_type": "stream",
          "text": [
            "variance :730530.6601948135\n",
            "mean :2680.042056074766\n"
          ],
          "name": "stdout"
        }
      ]
    },
    {
      "cell_type": "markdown",
      "metadata": {
        "id": "s1qlBe9vmmeV"
      },
      "source": [
        "From the computation above we can tell that the variance is much more high than the mean which goes contrary to the assuption of the poisson distribution. So we’ll build and train GP-1(Generalized Poisson Regression) model next and see if it performs better."
      ]
    },
    {
      "cell_type": "code",
      "metadata": {
        "id": "x0kJBSiKmTSh",
        "outputId": "69600953-3f8f-492b-a955-8a1125de4ff0",
        "colab": {
          "base_uri": "https://localhost:8080/"
        }
      },
      "source": [
        "gp1_poisson = sm.GeneralizedPoisson(y_train, X_train, p=1)\n",
        "gp1_poisson_model = gp1_poisson.fit()"
      ],
      "execution_count": 43,
      "outputs": [
        {
          "output_type": "stream",
          "text": [
            "Warning: Desired error not necessarily achieved due to precision loss.\n",
            "         Current function value: 7.348058\n",
            "         Iterations: 0\n",
            "         Function evaluations: 16\n",
            "         Gradient evaluations: 4\n"
          ],
          "name": "stdout"
        },
        {
          "output_type": "stream",
          "text": [
            "/usr/local/lib/python3.7/dist-packages/statsmodels/discrete/discrete_model.py:1396: RuntimeWarning: divide by zero encountered in log\n",
            "  np.log(a1) - gammaln(endog + 1) - a2 / a1)\n",
            "/usr/local/lib/python3.7/dist-packages/statsmodels/discrete/discrete_model.py:1531: RuntimeWarning: divide by zero encountered in reciprocal\n",
            "  a3 = alpha * p * mu ** (p - 1)\n",
            "/usr/local/lib/python3.7/dist-packages/statsmodels/discrete/discrete_model.py:1531: RuntimeWarning: overflow encountered in reciprocal\n",
            "  a3 = alpha * p * mu ** (p - 1)\n",
            "/usr/local/lib/python3.7/dist-packages/statsmodels/discrete/discrete_model.py:1531: RuntimeWarning: invalid value encountered in multiply\n",
            "  a3 = alpha * p * mu ** (p - 1)\n",
            "/usr/local/lib/python3.7/dist-packages/statsmodels/discrete/discrete_model.py:1539: RuntimeWarning: divide by zero encountered in true_divide\n",
            "  1 / mu)\n",
            "/usr/local/lib/python3.7/dist-packages/statsmodels/discrete/discrete_model.py:1539: RuntimeWarning: overflow encountered in true_divide\n",
            "  1 / mu)\n",
            "/usr/local/lib/python3.7/dist-packages/statsmodels/discrete/discrete_model.py:1396: RuntimeWarning: divide by zero encountered in log\n",
            "  np.log(a1) - gammaln(endog + 1) - a2 / a1)\n",
            "/usr/local/lib/python3.7/dist-packages/statsmodels/base/model.py:512: ConvergenceWarning: Maximum Likelihood optimization failed to converge. Check mle_retvals\n",
            "  \"Check mle_retvals\", ConvergenceWarning)\n"
          ],
          "name": "stderr"
        }
      ]
    },
    {
      "cell_type": "code",
      "metadata": {
        "id": "3Dj-SSsKotqx",
        "outputId": "a68c0697-4c20-4bfa-85ce-4ee8c3d9a142",
        "colab": {
          "base_uri": "https://localhost:8080/"
        }
      },
      "source": [
        "print(gp1_poisson_model.summary())"
      ],
      "execution_count": 44,
      "outputs": [
        {
          "output_type": "stream",
          "text": [
            "                    GeneralizedPoisson Regression Results                     \n",
            "==============================================================================\n",
            "Dep. Variable:               BB_COUNT   No. Observations:                  172\n",
            "Model:             GeneralizedPoisson   Df Residuals:                      164\n",
            "Method:                           MLE   Df Model:                            7\n",
            "Date:                Fri, 02 Jul 2021   Pseudo R-squ.:                  0.1447\n",
            "Time:                        09:57:25   Log-Likelihood:                -1263.9\n",
            "converged:                      False   LL-Null:                       -1477.7\n",
            "Covariance Type:            nonrobust   LLR p-value:                 2.799e-88\n",
            "===============================================================================\n",
            "                  coef    std err          z      P>|z|      [0.025      0.975]\n",
            "-------------------------------------------------------------------------------\n",
            "Intercept       6.6554      0.034    196.088      0.000       6.589       6.722\n",
            "DAY             0.0002      0.000      0.434      0.664      -0.001       0.001\n",
            "DAY_OF_WEEK    -0.0002      0.002     -0.110      0.912      -0.004       0.004\n",
            "MONTH          -0.0007      0.002     -0.322      0.748      -0.005       0.003\n",
            "BB_COUNT        0.0004   6.59e-06     57.647      0.000       0.000       0.000\n",
            "PRECIP         -0.2588      0.018    -14.048      0.000      -0.295      -0.223\n",
            "LOW_T          -0.0006      0.001     -0.606      0.545      -0.002       0.001\n",
            "HIGH_T          0.0030      0.001      3.306      0.001       0.001       0.005\n",
            "alpha           1.5734      0.074     21.238      0.000       1.428       1.719\n",
            "===============================================================================\n"
          ],
          "name": "stdout"
        }
      ]
    },
    {
      "cell_type": "markdown",
      "metadata": {
        "id": "o3Vbnp0frnnS"
      },
      "source": [
        "From the GeneralizedPoisson Regression result DAY, DAY_OF_MONTH, MONTH variables coefficient are not statistically significant at 95% confidence interval that is the p-value is > 0.05. Recall that in the Generalized Linear model all variables apart from DAY_OF_MONTH and MONTH are not statistically significant at 95% confidence interval.\n",
        "\n",
        "\n",
        "**Goodness-of-fit of the GP-1 model**\n",
        "\n",
        "The GP-1 model’s Maximum Likelihood Estimate is -1263.9 which is less than that of the null-model’s MLE of -2332.5. The null model is a simple intercept-only model, i.e. a horizontal line passing through the y-intercept. But is the difference statistically significant? The Likelihood Ratio (LR) test’s p-value is shown to be 2.799e-88, an extremely tiny number. So yes, the GP-1 model does actually do a better job of modeling the data than a simple intercept-only model."
      ]
    },
    {
      "cell_type": "markdown",
      "metadata": {
        "id": "m36lusWI0QGw"
      },
      "source": [
        "**Prediction**"
      ]
    },
    {
      "cell_type": "code",
      "metadata": {
        "id": "PBU7ikinpJGv"
      },
      "source": [
        "gp1_predict = gp1_poisson_model.predict(X_test)"
      ],
      "execution_count": 45,
      "outputs": []
    },
    {
      "cell_type": "markdown",
      "metadata": {
        "id": "y2FL_CyT0kB6"
      },
      "source": [
        "**Plotting graph to show the predictions from the actual**"
      ]
    },
    {
      "cell_type": "code",
      "metadata": {
        "id": "m_FOMNMM0d4X",
        "outputId": "7e440be2-3380-42a1-a0a6-b2590cb72d57",
        "colab": {
          "base_uri": "https://localhost:8080/",
          "height": 294
        }
      },
      "source": [
        "predicted_counts = gp1_predict\n",
        "actual_counts = y_test['BB_COUNT']\n",
        "\n",
        "fig = plt.figure()\n",
        "\n",
        "fig.suptitle('Predicted versus actual bicyclist counts on the Brooklyn bridge')\n",
        "predicted, = plt.plot(X_test.index, predicted_counts, 'go-', label='Predicted counts')\n",
        "actual, = plt.plot(X_test.index, actual_counts, 'ro-', label='Actual counts')\n",
        "plt.legend(handles=[predicted, actual])\n",
        "plt.show()"
      ],
      "execution_count": 49,
      "outputs": [
        {
          "output_type": "display_data",
          "data": {
            "image/png": "[encoded data removed]",
            "text/plain": [
              "<Figure size 432x288 with 1 Axes>"
            ]
          },
          "metadata": {
            "tags": [],
            "needs_background": "light"
          }
        }
      ]
    },
    {
      "cell_type": "markdown",
      "metadata": {
        "id": "2znwt8A-1-94"
      },
      "source": [
        "The graph above shows the prediction of cyclist compare to the actual counts "
      ]
    },
    {
      "cell_type": "markdown",
      "metadata": {
        "id": "1oqcxayc3Um8"
      },
      "source": [
        "**Ends of NoteBook**"
      ]
    }
  ]
}