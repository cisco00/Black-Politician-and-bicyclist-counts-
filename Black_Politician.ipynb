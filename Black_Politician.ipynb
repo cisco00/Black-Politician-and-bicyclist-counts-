{
  "nbformat": 4,
  "nbformat_minor": 0,
  "metadata": {
    "kernelspec": {
      "language": "python",
      "display_name": "Python 3",
      "name": "python3"
    },
    "language_info": {
      "name": "python",
      "version": "3.7.10",
      "mimetype": "text/x-python",
      "codemirror_mode": {
        "name": "ipython",
        "version": 3
      },
      "pygments_lexer": "ipython3",
      "nbconvert_exporter": "python",
      "file_extension": ".py"
    },
    "colab": {
      "name": "Black-Politician",
      "provenance": [],
      "include_colab_link": true
    }
  },
  "cells": [
    {
      "cell_type": "markdown",
      "metadata": {
        "id": "view-in-github",
        "colab_type": "text"
      },
      "source": [
        "<a href=\"https://colab.research.google.com/github/cisco00/Black-Politician-and-bicyclist-counts-/blob/main/Black_Politician.ipynb\" target=\"_parent\"><img src=\"https://colab.research.google.com/assets/colab-badge.svg\" alt=\"Open In Colab\"/></a>"
      ]
    },
    {
      "cell_type": "markdown",
      "metadata": {
        "id": "8Yj6b5A0CeTW"
      },
      "source": [
        "**The experiment sought to determine whether the effect of the email being from \"out-of-district\" (someone who can't vote for you and so provides no extrinsic motivation to reply) would have a smaller effect on response rates for Black legislators than for non-Black ones, providing evidence of additional intrinsic motivation on the part of Black legislators to help Black people.**"
      ]
    },
    {
      "cell_type": "code",
      "metadata": {
        "_uuid": "8f2839f25d086af736a60e9eeb907d3b93b6e0e5",
        "_cell_guid": "b1076dfc-b9ad-4769-8c92-a6c4dae69d19",
        "execution": {
          "iopub.status.busy": "2021-07-01T12:21:13.741516Z",
          "iopub.execute_input": "2021-07-01T12:21:13.742015Z",
          "iopub.status.idle": "2021-07-01T12:21:14.496357Z",
          "shell.execute_reply.started": "2021-07-01T12:21:13.741909Z",
          "shell.execute_reply": "2021-07-01T12:21:14.495469Z"
        },
        "trusted": true,
        "id": "btJ55mouCeTZ"
      },
      "source": [
        "import numpy as np \n",
        "import pandas as pd\n",
        "import matplotlib.pyplot as plt\n",
        "import seaborn as sns\n",
        "from sklearn.model_selection import train_test_split\n",
        "from sklearn.linear_model import LogisticRegression\n",
        "from sklearn.model_selection import StratifiedKFold\n",
        "from sklearn import preprocessing\n",
        "import statsmodels.api as sm"
      ],
      "execution_count": null,
      "outputs": []
    },
    {
      "cell_type": "code",
      "metadata": {
        "execution": {
          "iopub.status.busy": "2021-07-01T12:21:14.497797Z",
          "iopub.execute_input": "2021-07-01T12:21:14.498420Z",
          "iopub.status.idle": "2021-07-01T12:21:14.503432Z",
          "shell.execute_reply.started": "2021-07-01T12:21:14.498373Z",
          "shell.execute_reply": "2021-07-01T12:21:14.502481Z"
        },
        "trusted": true,
        "id": "SHLI2HsZCeTc"
      },
      "source": [
        "import warnings\n",
        "warnings.filterwarnings(\"ignore\", category=FutureWarning)"
      ],
      "execution_count": null,
      "outputs": []
    },
    {
      "cell_type": "code",
      "metadata": {
        "execution": {
          "iopub.status.busy": "2021-07-01T12:21:14.505667Z",
          "iopub.execute_input": "2021-07-01T12:21:14.505971Z",
          "iopub.status.idle": "2021-07-01T12:21:14.568434Z",
          "shell.execute_reply.started": "2021-07-01T12:21:14.505940Z",
          "shell.execute_reply": "2021-07-01T12:21:14.567346Z"
        },
        "trusted": true,
        "colab": {
          "base_uri": "https://localhost:8080/",
          "height": 419
        },
        "id": "zQ7IGU8SCeTd",
        "outputId": "ed6ab3e8-9fcd-48ea-f8f8-f3d3c2731873"
      },
      "source": [
        "black_ = pd.read_csv(\"/content/black_politicians.csv\")\n",
        "black_"
      ],
      "execution_count": null,
      "outputs": [
        {
          "output_type": "execute_result",
          "data": {
            "text/html": [
              "<div>\n",
              "<style scoped>\n",
              "    .dataframe tbody tr th:only-of-type {\n",
              "        vertical-align: middle;\n",
              "    }\n",
              "\n",
              "    .dataframe tbody tr th {\n",
              "        vertical-align: top;\n",
              "    }\n",
              "\n",
              "    .dataframe thead th {\n",
              "        text-align: right;\n",
              "    }\n",
              "</style>\n",
              "<table border=\"1\" class=\"dataframe\">\n",
              "  <thead>\n",
              "    <tr style=\"text-align: right;\">\n",
              "      <th></th>\n",
              "      <th>Unnamed: 0</th>\n",
              "      <th>leg_black</th>\n",
              "      <th>treat_out</th>\n",
              "      <th>responded</th>\n",
              "      <th>totalpop</th>\n",
              "      <th>medianhhincom</th>\n",
              "      <th>black_medianhh</th>\n",
              "      <th>white_medianhh</th>\n",
              "      <th>blackpercent</th>\n",
              "      <th>statessquireindex</th>\n",
              "      <th>nonblacknonwhite</th>\n",
              "      <th>urbanpercent</th>\n",
              "      <th>leg_senator</th>\n",
              "      <th>leg_democrat</th>\n",
              "      <th>south</th>\n",
              "    </tr>\n",
              "  </thead>\n",
              "  <tbody>\n",
              "    <tr>\n",
              "      <th>0</th>\n",
              "      <td>1</td>\n",
              "      <td>0</td>\n",
              "      <td>0</td>\n",
              "      <td>0</td>\n",
              "      <td>1.5873</td>\n",
              "      <td>5.0625</td>\n",
              "      <td>2.6814</td>\n",
              "      <td>2.6586</td>\n",
              "      <td>0.007119</td>\n",
              "      <td>0.227</td>\n",
              "      <td>0</td>\n",
              "      <td>0.695602</td>\n",
              "      <td>0</td>\n",
              "      <td>0</td>\n",
              "      <td>0</td>\n",
              "    </tr>\n",
              "    <tr>\n",
              "      <th>1</th>\n",
              "      <td>2</td>\n",
              "      <td>0</td>\n",
              "      <td>0</td>\n",
              "      <td>1</td>\n",
              "      <td>1.6218</td>\n",
              "      <td>4.9713</td>\n",
              "      <td>2.7126</td>\n",
              "      <td>2.6619</td>\n",
              "      <td>0.005796</td>\n",
              "      <td>0.227</td>\n",
              "      <td>0</td>\n",
              "      <td>0.618073</td>\n",
              "      <td>0</td>\n",
              "      <td>0</td>\n",
              "      <td>0</td>\n",
              "    </tr>\n",
              "    <tr>\n",
              "      <th>2</th>\n",
              "      <td>3</td>\n",
              "      <td>0</td>\n",
              "      <td>0</td>\n",
              "      <td>1</td>\n",
              "      <td>1.6710</td>\n",
              "      <td>6.9646</td>\n",
              "      <td>2.3087</td>\n",
              "      <td>2.9973</td>\n",
              "      <td>0.012029</td>\n",
              "      <td>0.227</td>\n",
              "      <td>0</td>\n",
              "      <td>0.824331</td>\n",
              "      <td>0</td>\n",
              "      <td>0</td>\n",
              "      <td>0</td>\n",
              "    </tr>\n",
              "    <tr>\n",
              "      <th>3</th>\n",
              "      <td>4</td>\n",
              "      <td>0</td>\n",
              "      <td>0</td>\n",
              "      <td>1</td>\n",
              "      <td>1.6122</td>\n",
              "      <td>4.1811</td>\n",
              "      <td>2.4668</td>\n",
              "      <td>2.4887</td>\n",
              "      <td>0.004280</td>\n",
              "      <td>0.227</td>\n",
              "      <td>1</td>\n",
              "      <td>0.000000</td>\n",
              "      <td>0</td>\n",
              "      <td>0</td>\n",
              "      <td>0</td>\n",
              "    </tr>\n",
              "    <tr>\n",
              "      <th>4</th>\n",
              "      <td>5</td>\n",
              "      <td>0</td>\n",
              "      <td>1</td>\n",
              "      <td>1</td>\n",
              "      <td>1.5622</td>\n",
              "      <td>3.1152</td>\n",
              "      <td>2.1490</td>\n",
              "      <td>2.0597</td>\n",
              "      <td>0.008258</td>\n",
              "      <td>0.227</td>\n",
              "      <td>1</td>\n",
              "      <td>0.000000</td>\n",
              "      <td>0</td>\n",
              "      <td>1</td>\n",
              "      <td>0</td>\n",
              "    </tr>\n",
              "    <tr>\n",
              "      <th>...</th>\n",
              "      <td>...</td>\n",
              "      <td>...</td>\n",
              "      <td>...</td>\n",
              "      <td>...</td>\n",
              "      <td>...</td>\n",
              "      <td>...</td>\n",
              "      <td>...</td>\n",
              "      <td>...</td>\n",
              "      <td>...</td>\n",
              "      <td>...</td>\n",
              "      <td>...</td>\n",
              "      <td>...</td>\n",
              "      <td>...</td>\n",
              "      <td>...</td>\n",
              "      <td>...</td>\n",
              "    </tr>\n",
              "    <tr>\n",
              "      <th>5588</th>\n",
              "      <td>5589</td>\n",
              "      <td>0</td>\n",
              "      <td>0</td>\n",
              "      <td>1</td>\n",
              "      <td>0.8659</td>\n",
              "      <td>5.1551</td>\n",
              "      <td>0.0000</td>\n",
              "      <td>1.9969</td>\n",
              "      <td>0.001155</td>\n",
              "      <td>0.054</td>\n",
              "      <td>0</td>\n",
              "      <td>0.129601</td>\n",
              "      <td>0</td>\n",
              "      <td>0</td>\n",
              "      <td>0</td>\n",
              "    </tr>\n",
              "    <tr>\n",
              "      <th>5589</th>\n",
              "      <td>5590</td>\n",
              "      <td>0</td>\n",
              "      <td>0</td>\n",
              "      <td>1</td>\n",
              "      <td>0.8809</td>\n",
              "      <td>3.6007</td>\n",
              "      <td>1.8000</td>\n",
              "      <td>2.0522</td>\n",
              "      <td>0.001816</td>\n",
              "      <td>0.054</td>\n",
              "      <td>0</td>\n",
              "      <td>0.766419</td>\n",
              "      <td>0</td>\n",
              "      <td>0</td>\n",
              "      <td>0</td>\n",
              "    </tr>\n",
              "    <tr>\n",
              "      <th>5590</th>\n",
              "      <td>5591</td>\n",
              "      <td>0</td>\n",
              "      <td>0</td>\n",
              "      <td>1</td>\n",
              "      <td>0.8549</td>\n",
              "      <td>3.1691</td>\n",
              "      <td>2.3880</td>\n",
              "      <td>1.8572</td>\n",
              "      <td>0.002339</td>\n",
              "      <td>0.054</td>\n",
              "      <td>0</td>\n",
              "      <td>0.960742</td>\n",
              "      <td>0</td>\n",
              "      <td>0</td>\n",
              "      <td>0</td>\n",
              "    </tr>\n",
              "    <tr>\n",
              "      <th>5591</th>\n",
              "      <td>5592</td>\n",
              "      <td>0</td>\n",
              "      <td>1</td>\n",
              "      <td>1</td>\n",
              "      <td>0.7980</td>\n",
              "      <td>3.1230</td>\n",
              "      <td>1.9344</td>\n",
              "      <td>1.6388</td>\n",
              "      <td>0.004762</td>\n",
              "      <td>0.054</td>\n",
              "      <td>0</td>\n",
              "      <td>0.957553</td>\n",
              "      <td>0</td>\n",
              "      <td>1</td>\n",
              "      <td>0</td>\n",
              "    </tr>\n",
              "    <tr>\n",
              "      <th>5592</th>\n",
              "      <td>5593</td>\n",
              "      <td>0</td>\n",
              "      <td>0</td>\n",
              "      <td>0</td>\n",
              "      <td>0.8670</td>\n",
              "      <td>5.2692</td>\n",
              "      <td>1.2833</td>\n",
              "      <td>2.0274</td>\n",
              "      <td>0.002768</td>\n",
              "      <td>0.054</td>\n",
              "      <td>0</td>\n",
              "      <td>0.985512</td>\n",
              "      <td>0</td>\n",
              "      <td>1</td>\n",
              "      <td>0</td>\n",
              "    </tr>\n",
              "  </tbody>\n",
              "</table>\n",
              "<p>5593 rows × 15 columns</p>\n",
              "</div>"
            ],
            "text/plain": [
              "      Unnamed: 0  leg_black  treat_out  ...  leg_senator  leg_democrat  south\n",
              "0              1          0          0  ...            0             0      0\n",
              "1              2          0          0  ...            0             0      0\n",
              "2              3          0          0  ...            0             0      0\n",
              "3              4          0          0  ...            0             0      0\n",
              "4              5          0          1  ...            0             1      0\n",
              "...          ...        ...        ...  ...          ...           ...    ...\n",
              "5588        5589          0          0  ...            0             0      0\n",
              "5589        5590          0          0  ...            0             0      0\n",
              "5590        5591          0          0  ...            0             0      0\n",
              "5591        5592          0          1  ...            0             1      0\n",
              "5592        5593          0          0  ...            0             1      0\n",
              "\n",
              "[5593 rows x 15 columns]"
            ]
          },
          "metadata": {
            "tags": []
          },
          "execution_count": 7
        }
      ]
    },
    {
      "cell_type": "markdown",
      "metadata": {
        "id": "F-B4Z5TcCeTf"
      },
      "source": [
        "**Checking for the information of the dataset**"
      ]
    },
    {
      "cell_type": "code",
      "metadata": {
        "execution": {
          "iopub.status.busy": "2021-07-01T12:21:14.570262Z",
          "iopub.execute_input": "2021-07-01T12:21:14.570581Z",
          "iopub.status.idle": "2021-07-01T12:21:14.588422Z",
          "shell.execute_reply.started": "2021-07-01T12:21:14.570550Z",
          "shell.execute_reply": "2021-07-01T12:21:14.587131Z"
        },
        "trusted": true,
        "colab": {
          "base_uri": "https://localhost:8080/"
        },
        "id": "fNvz_LFWCeTf",
        "outputId": "fa7aa44e-30d2-4e0e-e92b-07558888f8d7"
      },
      "source": [
        "black_.info()"
      ],
      "execution_count": null,
      "outputs": [
        {
          "output_type": "stream",
          "text": [
            "<class 'pandas.core.frame.DataFrame'>\n",
            "RangeIndex: 5593 entries, 0 to 5592\n",
            "Data columns (total 15 columns):\n",
            " #   Column             Non-Null Count  Dtype  \n",
            "---  ------             --------------  -----  \n",
            " 0   Unnamed: 0         5593 non-null   int64  \n",
            " 1   leg_black          5593 non-null   int64  \n",
            " 2   treat_out          5593 non-null   int64  \n",
            " 3   responded          5593 non-null   int64  \n",
            " 4   totalpop           5593 non-null   float64\n",
            " 5   medianhhincom      5593 non-null   float64\n",
            " 6   black_medianhh     5593 non-null   float64\n",
            " 7   white_medianhh     5593 non-null   float64\n",
            " 8   blackpercent       5593 non-null   float64\n",
            " 9   statessquireindex  5593 non-null   float64\n",
            " 10  nonblacknonwhite   5593 non-null   int64  \n",
            " 11  urbanpercent       5593 non-null   float64\n",
            " 12  leg_senator        5593 non-null   int64  \n",
            " 13  leg_democrat       5593 non-null   int64  \n",
            " 14  south              5593 non-null   int64  \n",
            "dtypes: float64(7), int64(8)\n",
            "memory usage: 655.6 KB\n"
          ],
          "name": "stdout"
        }
      ]
    },
    {
      "cell_type": "markdown",
      "metadata": {
        "id": "lvUbvlNdCeTg"
      },
      "source": [
        "**Checking for missing values in dataset**"
      ]
    },
    {
      "cell_type": "code",
      "metadata": {
        "execution": {
          "iopub.status.busy": "2021-07-01T12:21:14.589854Z",
          "iopub.execute_input": "2021-07-01T12:21:14.590201Z",
          "iopub.status.idle": "2021-07-01T12:21:14.600386Z",
          "shell.execute_reply.started": "2021-07-01T12:21:14.590170Z",
          "shell.execute_reply": "2021-07-01T12:21:14.598925Z"
        },
        "trusted": true,
        "colab": {
          "base_uri": "https://localhost:8080/"
        },
        "id": "X6a92WHfCeTg",
        "outputId": "f6eafa26-d191-474f-fd87-72ab1ebcc631"
      },
      "source": [
        "black_.isna().sum()"
      ],
      "execution_count": null,
      "outputs": [
        {
          "output_type": "execute_result",
          "data": {
            "text/plain": [
              "Unnamed: 0           0\n",
              "leg_black            0\n",
              "treat_out            0\n",
              "responded            0\n",
              "totalpop             0\n",
              "medianhhincom        0\n",
              "black_medianhh       0\n",
              "white_medianhh       0\n",
              "blackpercent         0\n",
              "statessquireindex    0\n",
              "nonblacknonwhite     0\n",
              "urbanpercent         0\n",
              "leg_senator          0\n",
              "leg_democrat         0\n",
              "south                0\n",
              "dtype: int64"
            ]
          },
          "metadata": {
            "tags": []
          },
          "execution_count": 9
        }
      ]
    },
    {
      "cell_type": "markdown",
      "metadata": {
        "id": "Sh4ukOMwCeTh"
      },
      "source": [
        "****Dropping columns that are not needed for computing model****"
      ]
    },
    {
      "cell_type": "code",
      "metadata": {
        "execution": {
          "iopub.status.busy": "2021-07-01T12:21:14.601701Z",
          "iopub.execute_input": "2021-07-01T12:21:14.602078Z",
          "iopub.status.idle": "2021-07-01T12:21:14.610141Z",
          "shell.execute_reply.started": "2021-07-01T12:21:14.601978Z",
          "shell.execute_reply": "2021-07-01T12:21:14.608932Z"
        },
        "trusted": true,
        "id": "iZKK2712CeTh"
      },
      "source": [
        "black = black_.drop(columns=['Unnamed: 0'], axis=1)"
      ],
      "execution_count": null,
      "outputs": []
    },
    {
      "cell_type": "code",
      "metadata": {
        "execution": {
          "iopub.status.busy": "2021-07-01T12:21:14.611584Z",
          "iopub.execute_input": "2021-07-01T12:21:14.611932Z",
          "iopub.status.idle": "2021-07-01T12:21:14.682323Z",
          "shell.execute_reply.started": "2021-07-01T12:21:14.611899Z",
          "shell.execute_reply": "2021-07-01T12:21:14.681281Z"
        },
        "trusted": true,
        "colab": {
          "base_uri": "https://localhost:8080/",
          "height": 297
        },
        "id": "L_IVPDgTCeTi",
        "outputId": "b0893951-454c-421a-9bc0-6010b52aa266"
      },
      "source": [
        "black.describe()"
      ],
      "execution_count": null,
      "outputs": [
        {
          "output_type": "execute_result",
          "data": {
            "text/html": [
              "<div>\n",
              "<style scoped>\n",
              "    .dataframe tbody tr th:only-of-type {\n",
              "        vertical-align: middle;\n",
              "    }\n",
              "\n",
              "    .dataframe tbody tr th {\n",
              "        vertical-align: top;\n",
              "    }\n",
              "\n",
              "    .dataframe thead th {\n",
              "        text-align: right;\n",
              "    }\n",
              "</style>\n",
              "<table border=\"1\" class=\"dataframe\">\n",
              "  <thead>\n",
              "    <tr style=\"text-align: right;\">\n",
              "      <th></th>\n",
              "      <th>leg_black</th>\n",
              "      <th>treat_out</th>\n",
              "      <th>responded</th>\n",
              "      <th>totalpop</th>\n",
              "      <th>medianhhincom</th>\n",
              "      <th>black_medianhh</th>\n",
              "      <th>white_medianhh</th>\n",
              "      <th>blackpercent</th>\n",
              "      <th>statessquireindex</th>\n",
              "      <th>nonblacknonwhite</th>\n",
              "      <th>urbanpercent</th>\n",
              "      <th>leg_senator</th>\n",
              "      <th>leg_democrat</th>\n",
              "      <th>south</th>\n",
              "    </tr>\n",
              "  </thead>\n",
              "  <tbody>\n",
              "    <tr>\n",
              "      <th>count</th>\n",
              "      <td>5593.000000</td>\n",
              "      <td>5593.000000</td>\n",
              "      <td>5593.000000</td>\n",
              "      <td>5593.000000</td>\n",
              "      <td>5593.000000</td>\n",
              "      <td>5593.000000</td>\n",
              "      <td>5593.000000</td>\n",
              "      <td>5593.000000</td>\n",
              "      <td>5593.000000</td>\n",
              "      <td>5593.000000</td>\n",
              "      <td>5593.000000</td>\n",
              "      <td>5593.000000</td>\n",
              "      <td>5593.000000</td>\n",
              "      <td>5593.000000</td>\n",
              "    </tr>\n",
              "    <tr>\n",
              "      <th>mean</th>\n",
              "      <td>0.065081</td>\n",
              "      <td>0.496871</td>\n",
              "      <td>0.422850</td>\n",
              "      <td>8.553139</td>\n",
              "      <td>4.362990</td>\n",
              "      <td>1.559966</td>\n",
              "      <td>2.318342</td>\n",
              "      <td>0.092231</td>\n",
              "      <td>0.190194</td>\n",
              "      <td>0.047202</td>\n",
              "      <td>0.678290</td>\n",
              "      <td>0.263901</td>\n",
              "      <td>0.531736</td>\n",
              "      <td>0.269086</td>\n",
              "    </tr>\n",
              "    <tr>\n",
              "      <th>std</th>\n",
              "      <td>0.246691</td>\n",
              "      <td>0.500035</td>\n",
              "      <td>0.494056</td>\n",
              "      <td>10.787865</td>\n",
              "      <td>1.409283</td>\n",
              "      <td>0.989874</td>\n",
              "      <td>0.759254</td>\n",
              "      <td>0.154456</td>\n",
              "      <td>0.122848</td>\n",
              "      <td>0.212089</td>\n",
              "      <td>0.318959</td>\n",
              "      <td>0.440786</td>\n",
              "      <td>0.499036</td>\n",
              "      <td>0.443525</td>\n",
              "    </tr>\n",
              "    <tr>\n",
              "      <th>min</th>\n",
              "      <td>0.000000</td>\n",
              "      <td>0.000000</td>\n",
              "      <td>0.000000</td>\n",
              "      <td>0.302600</td>\n",
              "      <td>1.728300</td>\n",
              "      <td>-0.117600</td>\n",
              "      <td>0.948200</td>\n",
              "      <td>0.000301</td>\n",
              "      <td>0.027000</td>\n",
              "      <td>0.000000</td>\n",
              "      <td>0.000000</td>\n",
              "      <td>0.000000</td>\n",
              "      <td>0.000000</td>\n",
              "      <td>0.000000</td>\n",
              "    </tr>\n",
              "    <tr>\n",
              "      <th>25%</th>\n",
              "      <td>0.000000</td>\n",
              "      <td>0.000000</td>\n",
              "      <td>0.000000</td>\n",
              "      <td>2.660900</td>\n",
              "      <td>3.322700</td>\n",
              "      <td>1.073300</td>\n",
              "      <td>1.820100</td>\n",
              "      <td>0.007702</td>\n",
              "      <td>0.116000</td>\n",
              "      <td>0.000000</td>\n",
              "      <td>0.424863</td>\n",
              "      <td>0.000000</td>\n",
              "      <td>0.000000</td>\n",
              "      <td>0.000000</td>\n",
              "    </tr>\n",
              "    <tr>\n",
              "      <th>50%</th>\n",
              "      <td>0.000000</td>\n",
              "      <td>0.000000</td>\n",
              "      <td>0.000000</td>\n",
              "      <td>4.903900</td>\n",
              "      <td>4.059600</td>\n",
              "      <td>1.413200</td>\n",
              "      <td>2.126900</td>\n",
              "      <td>0.026234</td>\n",
              "      <td>0.169000</td>\n",
              "      <td>0.000000</td>\n",
              "      <td>0.775239</td>\n",
              "      <td>0.000000</td>\n",
              "      <td>1.000000</td>\n",
              "      <td>0.000000</td>\n",
              "    </tr>\n",
              "    <tr>\n",
              "      <th>75%</th>\n",
              "      <td>0.000000</td>\n",
              "      <td>1.000000</td>\n",
              "      <td>1.000000</td>\n",
              "      <td>11.554600</td>\n",
              "      <td>5.134700</td>\n",
              "      <td>1.896600</td>\n",
              "      <td>2.610200</td>\n",
              "      <td>0.097552</td>\n",
              "      <td>0.223000</td>\n",
              "      <td>0.000000</td>\n",
              "      <td>0.985386</td>\n",
              "      <td>1.000000</td>\n",
              "      <td>1.000000</td>\n",
              "      <td>1.000000</td>\n",
              "    </tr>\n",
              "    <tr>\n",
              "      <th>max</th>\n",
              "      <td>1.000000</td>\n",
              "      <td>1.000000</td>\n",
              "      <td>1.000000</td>\n",
              "      <td>90.565700</td>\n",
              "      <td>13.677400</td>\n",
              "      <td>37.811500</td>\n",
              "      <td>10.660500</td>\n",
              "      <td>0.974497</td>\n",
              "      <td>0.626000</td>\n",
              "      <td>1.000000</td>\n",
              "      <td>1.000000</td>\n",
              "      <td>1.000000</td>\n",
              "      <td>1.000000</td>\n",
              "      <td>1.000000</td>\n",
              "    </tr>\n",
              "  </tbody>\n",
              "</table>\n",
              "</div>"
            ],
            "text/plain": [
              "         leg_black    treat_out  ...  leg_democrat        south\n",
              "count  5593.000000  5593.000000  ...   5593.000000  5593.000000\n",
              "mean      0.065081     0.496871  ...      0.531736     0.269086\n",
              "std       0.246691     0.500035  ...      0.499036     0.443525\n",
              "min       0.000000     0.000000  ...      0.000000     0.000000\n",
              "25%       0.000000     0.000000  ...      0.000000     0.000000\n",
              "50%       0.000000     0.000000  ...      1.000000     0.000000\n",
              "75%       0.000000     1.000000  ...      1.000000     1.000000\n",
              "max       1.000000     1.000000  ...      1.000000     1.000000\n",
              "\n",
              "[8 rows x 14 columns]"
            ]
          },
          "metadata": {
            "tags": []
          },
          "execution_count": 11
        }
      ]
    },
    {
      "cell_type": "markdown",
      "metadata": {
        "id": "8FOvfbD1CeTi"
      },
      "source": [
        "***From the above chart we can see that there is outlier in totalpop and black_medianhh, black_medianhh, white_medianhh, nonblacknonwhite in that the difference between the min and max score is very sparse apart***"
      ]
    },
    {
      "cell_type": "markdown",
      "metadata": {
        "id": "NNt-6jW5CeTj"
      },
      "source": [
        "**Removing outliers**"
      ]
    },
    {
      "cell_type": "code",
      "metadata": {
        "execution": {
          "iopub.status.busy": "2021-07-01T12:21:14.683749Z",
          "iopub.execute_input": "2021-07-01T12:21:14.684041Z",
          "iopub.status.idle": "2021-07-01T12:21:14.698285Z",
          "shell.execute_reply.started": "2021-07-01T12:21:14.684011Z",
          "shell.execute_reply": "2021-07-01T12:21:14.696962Z"
        },
        "trusted": true,
        "id": "ct6jyydXCeTj"
      },
      "source": [
        "q_low = black[\"medianhhincom\"].quantile(0.01)\n",
        "q_hi  = black[\"medianhhincom\"].quantile(0.99)\n",
        "df_filtered = black[(black[\"medianhhincom\"] < q_hi) & (black[\"medianhhincom\"] > q_low)]"
      ],
      "execution_count": null,
      "outputs": []
    },
    {
      "cell_type": "code",
      "metadata": {
        "execution": {
          "iopub.status.busy": "2021-07-01T12:21:14.701319Z",
          "iopub.execute_input": "2021-07-01T12:21:14.701666Z",
          "iopub.status.idle": "2021-07-01T12:21:15.343694Z",
          "shell.execute_reply.started": "2021-07-01T12:21:14.701631Z",
          "shell.execute_reply": "2021-07-01T12:21:15.342865Z"
        },
        "trusted": true,
        "colab": {
          "base_uri": "https://localhost:8080/",
          "height": 400
        },
        "id": "dcMSP4cwCeTk",
        "outputId": "db2ce03c-b723-4f56-e683-adc240befea7"
      },
      "source": [
        "fig=sns.lmplot(x='leg_black',y='treat_out',data=black)\n",
        "plt.title(\"Treat_out vs leg_black\")\n",
        "plt.show()"
      ],
      "execution_count": null,
      "outputs": [
        {
          "output_type": "display_data",
          "data": {
            "image/png": "[encoded data removed]",
            "text/plain": [
              "<Figure size 360x360 with 1 Axes>"
            ]
          },
          "metadata": {
            "tags": [],
            "needs_background": "light"
          }
        }
      ]
    },
    {
      "cell_type": "markdown",
      "metadata": {
        "id": "bQCzxwzhCeTk"
      },
      "source": [
        "**The graph above shows the number of black legislator that got the email from out of district**"
      ]
    },
    {
      "cell_type": "code",
      "metadata": {
        "execution": {
          "iopub.status.busy": "2021-07-01T12:21:15.345930Z",
          "iopub.execute_input": "2021-07-01T12:21:15.346543Z",
          "iopub.status.idle": "2021-07-01T12:21:15.965892Z",
          "shell.execute_reply.started": "2021-07-01T12:21:15.346494Z",
          "shell.execute_reply": "2021-07-01T12:21:15.965133Z"
        },
        "trusted": true,
        "colab": {
          "base_uri": "https://localhost:8080/",
          "height": 399
        },
        "id": "Vl1S9KBtCeTl",
        "outputId": "193fea5b-70a0-4c59-d245-813ea86aa73b"
      },
      "source": [
        "fig=sns.lmplot(x='south',y='leg_black',data=black)\n",
        "plt.title(\"South vs leg_black\")\n",
        "plt.show()"
      ],
      "execution_count": null,
      "outputs": [
        {
          "output_type": "display_data",
          "data": {
            "image/png": "[encoded data removed]",
            "text/plain": [
              "<Figure size 360x360 with 1 Axes>"
            ]
          },
          "metadata": {
            "tags": [],
            "needs_background": "light"
          }
        }
      ]
    },
    {
      "cell_type": "markdown",
      "metadata": {
        "id": "ZzZ-GqXZCeTl"
      },
      "source": [
        "**The graph shows the percentage of black politician from southern United State**"
      ]
    },
    {
      "cell_type": "code",
      "metadata": {
        "execution": {
          "iopub.status.busy": "2021-07-01T12:21:15.967332Z",
          "iopub.execute_input": "2021-07-01T12:21:15.967930Z",
          "iopub.status.idle": "2021-07-01T12:21:16.582404Z",
          "shell.execute_reply.started": "2021-07-01T12:21:15.967882Z",
          "shell.execute_reply": "2021-07-01T12:21:16.581370Z"
        },
        "trusted": true,
        "colab": {
          "base_uri": "https://localhost:8080/",
          "height": 400
        },
        "id": "H4Nm5zq-CeTl",
        "outputId": "d81bf54a-161c-42cc-b6d7-41e9a0025335"
      },
      "source": [
        "fig=sns.lmplot(x='leg_black',y='responded',data=black)\n",
        "plt.title(\"leg_black vs responded\")\n",
        "plt.show()"
      ],
      "execution_count": null,
      "outputs": [
        {
          "output_type": "display_data",
          "data": {
            "image/png": "[encoded data removed]",
            "text/plain": [
              "<Figure size 360x360 with 1 Axes>"
            ]
          },
          "metadata": {
            "tags": [],
            "needs_background": "light"
          }
        }
      ]
    },
    {
      "cell_type": "markdown",
      "metadata": {
        "id": "ff83ItwICeTm"
      },
      "source": [
        "**The graph shows the percentage of black legislator that responded to the email despite the raise in the numbers of black legislator in Southern United state**"
      ]
    },
    {
      "cell_type": "code",
      "metadata": {
        "execution": {
          "iopub.status.busy": "2021-07-01T12:21:16.583802Z",
          "iopub.execute_input": "2021-07-01T12:21:16.584143Z",
          "iopub.status.idle": "2021-07-01T12:21:17.210787Z",
          "shell.execute_reply.started": "2021-07-01T12:21:16.584109Z",
          "shell.execute_reply": "2021-07-01T12:21:17.209694Z"
        },
        "trusted": true,
        "colab": {
          "base_uri": "https://localhost:8080/",
          "height": 400
        },
        "id": "MJY1BA9SCeTm",
        "outputId": "947788b4-875b-41a1-f31c-581acbabc017"
      },
      "source": [
        "fig=sns.lmplot(x='leg_senator',y='nonblacknonwhite',data=black)\n",
        "plt.title(\" nonblacknonwhite vs leg_senator\")\n",
        "plt.show()"
      ],
      "execution_count": null,
      "outputs": [
        {
          "output_type": "display_data",
          "data": {
            "image/png": "[encoded data removed]",
            "text/plain": [
              "<Figure size 360x360 with 1 Axes>"
            ]
          },
          "metadata": {
            "tags": [],
            "needs_background": "light"
          }
        }
      ]
    },
    {
      "cell_type": "markdown",
      "metadata": {
        "id": "2odsu-M0CeTn"
      },
      "source": [
        "**The graph shows the percentage number of neither white nor black senators that receive the email**"
      ]
    },
    {
      "cell_type": "code",
      "metadata": {
        "execution": {
          "iopub.status.busy": "2021-07-01T12:21:17.212270Z",
          "iopub.execute_input": "2021-07-01T12:21:17.212682Z",
          "iopub.status.idle": "2021-07-01T12:21:17.829289Z",
          "shell.execute_reply.started": "2021-07-01T12:21:17.212637Z",
          "shell.execute_reply": "2021-07-01T12:21:17.828163Z"
        },
        "trusted": true,
        "colab": {
          "base_uri": "https://localhost:8080/",
          "height": 400
        },
        "id": "DpYiH04SCeTn",
        "outputId": "179286c9-41bd-481c-d6c6-cd2f8ff36a05"
      },
      "source": [
        "fig=sns.lmplot(x='leg_black',y='south',data=black)\n",
        "plt.title(\"Numbers of black Legislator that got the email in S.U.S\")\n",
        "plt.show()"
      ],
      "execution_count": null,
      "outputs": [
        {
          "output_type": "display_data",
          "data": {
            "image/png": "[encoded data removed]",
            "text/plain": [
              "<Figure size 360x360 with 1 Axes>"
            ]
          },
          "metadata": {
            "tags": [],
            "needs_background": "light"
          }
        }
      ]
    },
    {
      "cell_type": "markdown",
      "metadata": {
        "id": "dHSNkYZXCeTn"
      },
      "source": [
        "****Number of black legislator in southern United State that got the email****"
      ]
    },
    {
      "cell_type": "code",
      "metadata": {
        "execution": {
          "iopub.status.busy": "2021-07-01T12:21:17.832043Z",
          "iopub.execute_input": "2021-07-01T12:21:17.832527Z",
          "iopub.status.idle": "2021-07-01T12:21:18.449113Z",
          "shell.execute_reply.started": "2021-07-01T12:21:17.832478Z",
          "shell.execute_reply": "2021-07-01T12:21:18.447992Z"
        },
        "trusted": true,
        "colab": {
          "base_uri": "https://localhost:8080/",
          "height": 400
        },
        "id": "TZTWPEHMCeTo",
        "outputId": "0ea0cffa-7091-4859-ee43-c521b0ed8e38"
      },
      "source": [
        "fig=sns.lmplot(x='leg_democrat',y='south',data=black)\n",
        "plt.title(\"Democrate that Receive the email in S.U.S\")\n",
        "plt.show()"
      ],
      "execution_count": null,
      "outputs": [
        {
          "output_type": "display_data",
          "data": {
            "image/png": "[encoded data removed]",
            "text/plain": [
              "<Figure size 360x360 with 1 Axes>"
            ]
          },
          "metadata": {
            "tags": [],
            "needs_background": "light"
          }
        }
      ]
    },
    {
      "cell_type": "markdown",
      "metadata": {
        "id": "eoCasSCsCeTo"
      },
      "source": [
        "**The numbers of democrate in south U.S that got the email**"
      ]
    },
    {
      "cell_type": "code",
      "metadata": {
        "execution": {
          "iopub.status.busy": "2021-07-01T12:21:18.450675Z",
          "iopub.execute_input": "2021-07-01T12:21:18.451092Z",
          "iopub.status.idle": "2021-07-01T12:21:18.619567Z",
          "shell.execute_reply.started": "2021-07-01T12:21:18.451043Z",
          "shell.execute_reply": "2021-07-01T12:21:18.618545Z"
        },
        "trusted": true,
        "colab": {
          "base_uri": "https://localhost:8080/",
          "height": 312
        },
        "id": "jGHke7AiCeTp",
        "outputId": "93a51709-47b5-4716-cdc9-89a64bfcc7af"
      },
      "source": [
        "plt.hist(black['responded'])\n",
        "plt.title(\"responses\")\n",
        "plt.ylabel(\"frequency\")\n",
        "plt.xlabel(\"response\")"
      ],
      "execution_count": null,
      "outputs": [
        {
          "output_type": "execute_result",
          "data": {
            "text/plain": [
              "Text(0.5, 0, 'response')"
            ]
          },
          "metadata": {
            "tags": []
          },
          "execution_count": 19
        },
        {
          "output_type": "display_data",
          "data": {
            "image/png": "[encoded data removed]",
            "text/plain": [
              "<Figure size 432x288 with 1 Axes>"
            ]
          },
          "metadata": {
            "tags": [],
            "needs_background": "light"
          }
        }
      ]
    },
    {
      "cell_type": "markdown",
      "metadata": {
        "id": "zOXNo0GUCeTp"
      },
      "source": [
        "**The chart above show the numbers of respondent to the email being sent accross**"
      ]
    },
    {
      "cell_type": "markdown",
      "metadata": {
        "id": "eI6wov9hCeTp"
      },
      "source": [
        "****Checking for correaltion among variables****"
      ]
    },
    {
      "cell_type": "code",
      "metadata": {
        "execution": {
          "iopub.status.busy": "2021-07-01T12:21:18.620931Z",
          "iopub.execute_input": "2021-07-01T12:21:18.621260Z",
          "iopub.status.idle": "2021-07-01T12:21:19.840931Z",
          "shell.execute_reply.started": "2021-07-01T12:21:18.621228Z",
          "shell.execute_reply": "2021-07-01T12:21:19.840122Z"
        },
        "trusted": true,
        "colab": {
          "base_uri": "https://localhost:8080/",
          "height": 694
        },
        "id": "jvj_YxjYCeTq",
        "outputId": "4fb0fe93-f7e1-4114-b09e-fb44af16d21d"
      },
      "source": [
        "plt.figure(figsize=(20,10))\n",
        "sns.heatmap(black.corr(), annot=True)"
      ],
      "execution_count": null,
      "outputs": [
        {
          "output_type": "execute_result",
          "data": {
            "text/plain": [
              "<matplotlib.axes._subplots.AxesSubplot at 0x7f8b31b1ee50>"
            ]
          },
          "metadata": {
            "tags": []
          },
          "execution_count": 20
        },
        {
          "output_type": "display_data",
          "data": {
            "image/png": "[encoded data removed]",
            "text/plain": [
              "<Figure size 1440x720 with 2 Axes>"
            ]
          },
          "metadata": {
            "tags": [],
            "needs_background": "light"
          }
        }
      ]
    },
    {
      "cell_type": "markdown",
      "metadata": {
        "id": "dqDtB_SnCeTq"
      },
      "source": [
        "**Splitting dataset into train and test for evaluation**"
      ]
    },
    {
      "cell_type": "code",
      "metadata": {
        "execution": {
          "iopub.status.busy": "2021-07-01T12:21:19.841837Z",
          "iopub.execute_input": "2021-07-01T12:21:19.842103Z",
          "iopub.status.idle": "2021-07-01T12:21:19.848113Z",
          "shell.execute_reply.started": "2021-07-01T12:21:19.842076Z",
          "shell.execute_reply": "2021-07-01T12:21:19.847040Z"
        },
        "trusted": true,
        "id": "jEli89XWCeTq"
      },
      "source": [
        "X = black.drop(columns=['responded'], axis=1)\n",
        "y = black['responded']"
      ],
      "execution_count": null,
      "outputs": []
    },
    {
      "cell_type": "markdown",
      "metadata": {
        "id": "ZphZvomCCeTq"
      },
      "source": [
        "**Selecting features that are best fit for our model using Recursive Feature Elimination**"
      ]
    },
    {
      "cell_type": "code",
      "metadata": {
        "execution": {
          "iopub.status.busy": "2021-07-01T12:21:19.849402Z",
          "iopub.execute_input": "2021-07-01T12:21:19.849693Z",
          "iopub.status.idle": "2021-07-01T12:21:19.868210Z",
          "shell.execute_reply.started": "2021-07-01T12:21:19.849665Z",
          "shell.execute_reply": "2021-07-01T12:21:19.867201Z"
        },
        "trusted": true,
        "id": "faIDckvuCeTr"
      },
      "source": [
        "X_train,X_test,y_train,y_test = train_test_split(X, y, test_size = .20, random_state=70)"
      ],
      "execution_count": null,
      "outputs": []
    },
    {
      "cell_type": "code",
      "metadata": {
        "execution": {
          "iopub.status.busy": "2021-07-01T12:21:19.869741Z",
          "iopub.execute_input": "2021-07-01T12:21:19.870064Z",
          "iopub.status.idle": "2021-07-01T12:21:19.881442Z",
          "shell.execute_reply.started": "2021-07-01T12:21:19.870021Z",
          "shell.execute_reply": "2021-07-01T12:21:19.880365Z"
        },
        "trusted": true,
        "colab": {
          "base_uri": "https://localhost:8080/"
        },
        "id": "MxYNOqImCeTr",
        "outputId": "63f17417-6a90-48b3-e02d-8839828ef3b5"
      },
      "source": [
        "print(X_train.shape)\n",
        "print(y_train.shape)"
      ],
      "execution_count": null,
      "outputs": [
        {
          "output_type": "stream",
          "text": [
            "(4474, 13)\n",
            "(4474,)\n"
          ],
          "name": "stdout"
        }
      ]
    },
    {
      "cell_type": "code",
      "metadata": {
        "execution": {
          "iopub.status.busy": "2021-07-01T12:21:19.882543Z",
          "iopub.execute_input": "2021-07-01T12:21:19.882937Z",
          "iopub.status.idle": "2021-07-01T12:21:19.896448Z",
          "shell.execute_reply.started": "2021-07-01T12:21:19.882895Z",
          "shell.execute_reply": "2021-07-01T12:21:19.895325Z"
        },
        "trusted": true,
        "id": "NkJX23IhCeTr"
      },
      "source": [
        "model = LogisticRegression()"
      ],
      "execution_count": null,
      "outputs": []
    },
    {
      "cell_type": "code",
      "metadata": {
        "execution": {
          "iopub.status.busy": "2021-07-01T12:21:19.897462Z",
          "iopub.execute_input": "2021-07-01T12:21:19.897724Z",
          "iopub.status.idle": "2021-07-01T12:21:20.061815Z",
          "shell.execute_reply.started": "2021-07-01T12:21:19.897698Z",
          "shell.execute_reply": "2021-07-01T12:21:20.060660Z"
        },
        "trusted": true,
        "colab": {
          "base_uri": "https://localhost:8080/"
        },
        "id": "eq5DYG2QCeTs",
        "outputId": "d2d2714a-7327-4c73-df93-367c687365fb"
      },
      "source": [
        "log_model = model.fit(X_train, y_train)\n",
        "log_model_score = model.score(X_train, y_train)\n",
        "log_model_score"
      ],
      "execution_count": null,
      "outputs": [
        {
          "output_type": "execute_result",
          "data": {
            "text/plain": [
              "0.6392489941886456"
            ]
          },
          "metadata": {
            "tags": []
          },
          "execution_count": 25
        }
      ]
    },
    {
      "cell_type": "markdown",
      "metadata": {
        "id": "eRJUm7VVCeTs"
      },
      "source": [
        "**The accuracy score shows that our model has 64% chance of predicting the numbers of black legislator in southern United state, which responded to the email without extrinsic motive or motivation. And since we can't completely really rely on this accuracy as a result of the outliers which might make the model to be bias we will carryout a cross validation test to really ascertain the true score of our model**"
      ]
    },
    {
      "cell_type": "code",
      "metadata": {
        "execution": {
          "iopub.status.busy": "2021-07-01T12:21:20.067333Z",
          "iopub.execute_input": "2021-07-01T12:21:20.070213Z",
          "iopub.status.idle": "2021-07-01T12:21:20.088027Z",
          "shell.execute_reply.started": "2021-07-01T12:21:20.070144Z",
          "shell.execute_reply": "2021-07-01T12:21:20.086493Z"
        },
        "trusted": true,
        "colab": {
          "base_uri": "https://localhost:8080/"
        },
        "id": "vUCSfu5-CeTt",
        "outputId": "d22d1f96-e7e9-4ddb-f770-2e9813780be0"
      },
      "source": [
        "y_pred = log_model.predict(X_test)\n",
        "y_pred"
      ],
      "execution_count": null,
      "outputs": [
        {
          "output_type": "execute_result",
          "data": {
            "text/plain": [
              "array([1, 0, 0, ..., 1, 0, 0])"
            ]
          },
          "metadata": {
            "tags": []
          },
          "execution_count": 26
        }
      ]
    },
    {
      "cell_type": "code",
      "metadata": {
        "execution": {
          "iopub.status.busy": "2021-07-01T12:21:20.094531Z",
          "iopub.execute_input": "2021-07-01T12:21:20.098846Z",
          "iopub.status.idle": "2021-07-01T12:21:20.106705Z",
          "shell.execute_reply.started": "2021-07-01T12:21:20.098771Z",
          "shell.execute_reply": "2021-07-01T12:21:20.105182Z"
        },
        "trusted": true,
        "id": "knkKQ36UCeTt"
      },
      "source": [
        "coef_result = model.coef_"
      ],
      "execution_count": null,
      "outputs": []
    },
    {
      "cell_type": "markdown",
      "metadata": {
        "id": "klNoC8iFCeTt"
      },
      "source": [
        "**From the coefficient result it shows that there is positive and some negative relationship between the dependent and independent variable given that a percentage increase in an email being sent to black legislator there is 61% that he/she will respond to the email without extrinsic or intrinsic motive while if same email is sent to black democrat legislator there is 25% that he/she will not respond to the email without intrinsic or extrinsic motive**"
      ]
    },
    {
      "cell_type": "code",
      "metadata": {
        "execution": {
          "iopub.status.busy": "2021-07-01T12:21:20.113036Z",
          "iopub.execute_input": "2021-07-01T12:21:20.116800Z",
          "iopub.status.idle": "2021-07-01T12:21:20.141593Z",
          "shell.execute_reply.started": "2021-07-01T12:21:20.116734Z",
          "shell.execute_reply": "2021-07-01T12:21:20.140471Z"
        },
        "trusted": true,
        "colab": {
          "base_uri": "https://localhost:8080/"
        },
        "id": "U13fW0JTCeTu",
        "outputId": "b80ebdb3-ab7f-41d2-a81b-09fcafc12364"
      },
      "source": [
        "from sklearn.metrics import classification_report\n",
        "print(classification_report(y_test, y_pred))"
      ],
      "execution_count": null,
      "outputs": [
        {
          "output_type": "stream",
          "text": [
            "              precision    recall  f1-score   support\n",
            "\n",
            "           0       0.71      0.73      0.72       655\n",
            "           1       0.60      0.58      0.59       464\n",
            "\n",
            "    accuracy                           0.67      1119\n",
            "   macro avg       0.66      0.65      0.66      1119\n",
            "weighted avg       0.67      0.67      0.67      1119\n",
            "\n"
          ],
          "name": "stdout"
        }
      ]
    },
    {
      "cell_type": "markdown",
      "metadata": {
        "id": "NgTnnpfnCeTv"
      },
      "source": [
        "**The precision(60% positive and 71% non positive) score above quantifies the real percentage of black legialators in the southern united state district that received the email and responde to it without an extrinsic motive.**\n",
        "**The recall shows that of all responded 58% of positive is predicted correctly**"
      ]
    },
    {
      "cell_type": "markdown",
      "metadata": {
        "id": "ergRUV_XCeTv"
      },
      "source": [
        "**Cross Validation**"
      ]
    },
    {
      "cell_type": "code",
      "metadata": {
        "execution": {
          "iopub.status.busy": "2021-07-01T12:21:20.146814Z",
          "iopub.execute_input": "2021-07-01T12:21:20.149541Z",
          "iopub.status.idle": "2021-07-01T12:21:20.836466Z",
          "shell.execute_reply.started": "2021-07-01T12:21:20.149477Z",
          "shell.execute_reply": "2021-07-01T12:21:20.835308Z"
        },
        "trusted": true,
        "colab": {
          "base_uri": "https://localhost:8080/"
        },
        "id": "6KuNMaVuCeTw",
        "outputId": "7dab908a-854d-44b2-e935-d5e154e5134e"
      },
      "source": [
        "accurancy = []\n",
        "stratifiedKf_predict = StratifiedKFold(n_splits=5, shuffle=True, random_state=100)\n",
        "stratifiedKf_predict.get_n_splits(X,y)\n",
        "\n",
        "for train_index, test_index in stratifiedKf_predict.split(X_train,y_train):\n",
        "   \n",
        "    X1_train, X1_test = X_train.iloc[train_index], X_train.iloc[test_index]\n",
        "    y1_train, y1_test = y_train.iloc[train_index], y_train.iloc[test_index]\n",
        "  \n",
        "    model.fit(X1_train, y1_train)\n",
        "    result = model.score(X1_test, y1_test)\n",
        "    accurancy.append(result)\n",
        "\n",
        "accuracy = np.array(accurancy)\n",
        "\n",
        "print(f' Maximum Accurancy: {accuracy.max()*100:.2f}%')\n",
        "print(f' Minimum Accurancy: {accuracy.min()*100:.2f}%')\n",
        "print(f' Mean Accurancy: {accuracy.mean()*100:.2}%')\n",
        "print(f' Std accurancy: {accuracy.std()*100:.2f}%')"
      ],
      "execution_count": null,
      "outputs": [
        {
          "output_type": "stream",
          "text": [
            "/usr/local/lib/python3.7/dist-packages/sklearn/linear_model/_logistic.py:940: ConvergenceWarning: lbfgs failed to converge (status=1):\n",
            "STOP: TOTAL NO. of ITERATIONS REACHED LIMIT.\n",
            "\n",
            "Increase the number of iterations (max_iter) or scale the data as shown in:\n",
            "    https://scikit-learn.org/stable/modules/preprocessing.html\n",
            "Please also refer to the documentation for alternative solver options:\n",
            "    https://scikit-learn.org/stable/modules/linear_model.html#logistic-regression\n",
            "  extra_warning_msg=_LOGISTIC_SOLVER_CONVERGENCE_MSG)\n",
            "/usr/local/lib/python3.7/dist-packages/sklearn/linear_model/_logistic.py:940: ConvergenceWarning: lbfgs failed to converge (status=1):\n",
            "STOP: TOTAL NO. of ITERATIONS REACHED LIMIT.\n",
            "\n",
            "Increase the number of iterations (max_iter) or scale the data as shown in:\n",
            "    https://scikit-learn.org/stable/modules/preprocessing.html\n",
            "Please also refer to the documentation for alternative solver options:\n",
            "    https://scikit-learn.org/stable/modules/linear_model.html#logistic-regression\n",
            "  extra_warning_msg=_LOGISTIC_SOLVER_CONVERGENCE_MSG)\n",
            "/usr/local/lib/python3.7/dist-packages/sklearn/linear_model/_logistic.py:940: ConvergenceWarning: lbfgs failed to converge (status=1):\n",
            "STOP: TOTAL NO. of ITERATIONS REACHED LIMIT.\n",
            "\n",
            "Increase the number of iterations (max_iter) or scale the data as shown in:\n",
            "    https://scikit-learn.org/stable/modules/preprocessing.html\n",
            "Please also refer to the documentation for alternative solver options:\n",
            "    https://scikit-learn.org/stable/modules/linear_model.html#logistic-regression\n",
            "  extra_warning_msg=_LOGISTIC_SOLVER_CONVERGENCE_MSG)\n",
            "/usr/local/lib/python3.7/dist-packages/sklearn/linear_model/_logistic.py:940: ConvergenceWarning: lbfgs failed to converge (status=1):\n",
            "STOP: TOTAL NO. of ITERATIONS REACHED LIMIT.\n",
            "\n",
            "Increase the number of iterations (max_iter) or scale the data as shown in:\n",
            "    https://scikit-learn.org/stable/modules/preprocessing.html\n",
            "Please also refer to the documentation for alternative solver options:\n",
            "    https://scikit-learn.org/stable/modules/linear_model.html#logistic-regression\n",
            "  extra_warning_msg=_LOGISTIC_SOLVER_CONVERGENCE_MSG)\n"
          ],
          "name": "stderr"
        },
        {
          "output_type": "stream",
          "text": [
            " Maximum Accurancy: 66.26%\n",
            " Minimum Accurancy: 62.46%\n",
            " Mean Accurancy: 6.4e+01%\n",
            " Std accurancy: 1.35%\n"
          ],
          "name": "stdout"
        },
        {
          "output_type": "stream",
          "text": [
            "/usr/local/lib/python3.7/dist-packages/sklearn/linear_model/_logistic.py:940: ConvergenceWarning: lbfgs failed to converge (status=1):\n",
            "STOP: TOTAL NO. of ITERATIONS REACHED LIMIT.\n",
            "\n",
            "Increase the number of iterations (max_iter) or scale the data as shown in:\n",
            "    https://scikit-learn.org/stable/modules/preprocessing.html\n",
            "Please also refer to the documentation for alternative solver options:\n",
            "    https://scikit-learn.org/stable/modules/linear_model.html#logistic-regression\n",
            "  extra_warning_msg=_LOGISTIC_SOLVER_CONVERGENCE_MSG)\n"
          ],
          "name": "stderr"
        }
      ]
    },
    {
      "cell_type": "markdown",
      "metadata": {
        "id": "w9iLiGUqCeTx"
      },
      "source": [
        "**The result above shows that our model has 66% of predicting if a black legislator from southern United State will respond to email being sent without overfitting**"
      ]
    },
    {
      "cell_type": "markdown",
      "metadata": {
        "id": "G5z1HODyRUu6"
      },
      "source": [
        "END OF NOTEBOOK"
      ]
    }
  ]
}